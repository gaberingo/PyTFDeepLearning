{
 "cells": [
  {
   "cell_type": "markdown",
   "metadata": {},
   "source": [
    "# Learn Generative Adversarial Network"
   ]
  },
  {
   "cell_type": "markdown",
   "metadata": {},
   "source": [
    "## 1. Import Dependencies and Data"
   ]
  },
  {
   "cell_type": "code",
   "execution_count": 1,
   "metadata": {
    "ExecuteTime": {
     "end_time": "2023-12-03T12:26:37.331434423Z",
     "start_time": "2023-12-03T12:26:34.283303623Z"
    }
   },
   "outputs": [
    {
     "name": "stderr",
     "output_type": "stream",
     "text": [
      "2023-12-03 19:26:36.231096: I tensorflow/stream_executor/rocm/rocm_gpu_executor.cc:832] successful NUMA node read from SysFS had negative value (-1), but there must be at least one NUMA node, so returning NUMA node zero\n",
      "2023-12-03 19:26:37.253677: I tensorflow/stream_executor/rocm/rocm_gpu_executor.cc:832] successful NUMA node read from SysFS had negative value (-1), but there must be at least one NUMA node, so returning NUMA node zero\n",
      "2023-12-03 19:26:37.253754: I tensorflow/stream_executor/rocm/rocm_gpu_executor.cc:832] successful NUMA node read from SysFS had negative value (-1), but there must be at least one NUMA node, so returning NUMA node zero\n"
     ]
    }
   ],
   "source": [
    "# Importing the libraries\n",
    "import tensorflow as tf\n",
    "gpus = tf.config.experimental.list_physical_devices('GPU')\n",
    "for gpu in gpus:\n",
    "    tf.config.experimental.set_memory_growth(gpu, True)"
   ]
  },
  {
   "cell_type": "code",
   "execution_count": 2,
   "metadata": {
    "ExecuteTime": {
     "end_time": "2023-12-03T12:26:38.036070213Z",
     "start_time": "2023-12-03T12:26:37.298615352Z"
    }
   },
   "outputs": [
    {
     "name": "stderr",
     "output_type": "stream",
     "text": [
      "/home/gabe/.local/lib/python3.8/site-packages/tqdm/auto.py:21: TqdmWarning: IProgress not found. Please update jupyter and ipywidgets. See https://ipywidgets.readthedocs.io/en/stable/user_install.html\n",
      "  from .autonotebook import tqdm as notebook_tqdm\n"
     ]
    }
   ],
   "source": [
    "# Get the data fashion mnist\n",
    "import tensorflow_datasets as tfds\n",
    "from matplotlib import pyplot as plt"
   ]
  },
  {
   "cell_type": "code",
   "execution_count": 3,
   "outputs": [
    {
     "name": "stderr",
     "output_type": "stream",
     "text": [
      "2023-12-03 19:26:38.061729: I tensorflow/core/platform/cpu_feature_guard.cc:151] This TensorFlow binary is optimized with oneAPI Deep Neural Network Library (oneDNN) to use the following CPU instructions in performance-critical operations:  SSE3 SSE4.1 SSE4.2 AVX AVX2 FMA\n",
      "To enable them in other operations, rebuild TensorFlow with the appropriate compiler flags.\n",
      "2023-12-03 19:26:38.063389: I tensorflow/stream_executor/rocm/rocm_gpu_executor.cc:832] successful NUMA node read from SysFS had negative value (-1), but there must be at least one NUMA node, so returning NUMA node zero\n",
      "2023-12-03 19:26:38.063507: I tensorflow/stream_executor/rocm/rocm_gpu_executor.cc:832] successful NUMA node read from SysFS had negative value (-1), but there must be at least one NUMA node, so returning NUMA node zero\n",
      "2023-12-03 19:26:38.063544: I tensorflow/stream_executor/rocm/rocm_gpu_executor.cc:832] successful NUMA node read from SysFS had negative value (-1), but there must be at least one NUMA node, so returning NUMA node zero\n",
      "2023-12-03 19:26:38.065982: I tensorflow/stream_executor/rocm/rocm_gpu_executor.cc:832] successful NUMA node read from SysFS had negative value (-1), but there must be at least one NUMA node, so returning NUMA node zero\n",
      "2023-12-03 19:26:38.066059: I tensorflow/stream_executor/rocm/rocm_gpu_executor.cc:832] successful NUMA node read from SysFS had negative value (-1), but there must be at least one NUMA node, so returning NUMA node zero\n",
      "2023-12-03 19:26:38.066103: I tensorflow/stream_executor/rocm/rocm_gpu_executor.cc:832] successful NUMA node read from SysFS had negative value (-1), but there must be at least one NUMA node, so returning NUMA node zero\n",
      "2023-12-03 19:26:38.066812: I tensorflow/core/common_runtime/gpu/gpu_device.cc:1525] Created device /job:localhost/replica:0/task:0/device:GPU:0 with 7692 MB memory:  -> device: 0, name: AMD Radeon RX 580 2048SP, pci bus id: 0000:01:00.0\n"
     ]
    }
   ],
   "source": [
    "ds = tfds.load('fashion_mnist', split='train')"
   ],
   "metadata": {
    "collapsed": false,
    "ExecuteTime": {
     "end_time": "2023-12-03T12:26:38.766606725Z",
     "start_time": "2023-12-03T12:26:38.039112055Z"
    }
   }
  },
  {
   "cell_type": "code",
   "execution_count": 4,
   "outputs": [
    {
     "name": "stderr",
     "output_type": "stream",
     "text": [
      "2023-12-03 19:26:38.847990: I tensorflow/core/common_runtime/gpu_fusion_pass.cc:507] ROCm Fusion is enabled.\n",
      "2023-12-03 19:26:38.855570: I tensorflow/core/common_runtime/gpu_fusion_pass.cc:507] ROCm Fusion is enabled.\n",
      "2023-12-03 19:26:38.862833: I tensorflow/core/common_runtime/gpu_fusion_pass.cc:507] ROCm Fusion is enabled.\n",
      "2023-12-03 19:26:38.896061: W tensorflow/core/kernels/data/cache_dataset_ops.cc:768] The calling iterator did not fully read the dataset being cached. In order to avoid unexpected truncation of the dataset, the partially cached contents of the dataset  will be discarded. This can happen if you have an input pipeline similar to `dataset.cache().take(k).repeat()`. You should use `dataset.take(k).cache().repeat()` instead.\n"
     ]
    },
    {
     "data": {
      "text/plain": "2"
     },
     "execution_count": 4,
     "metadata": {},
     "output_type": "execute_result"
    }
   ],
   "source": [
    "ds.as_numpy_iterator().next()['label']"
   ],
   "metadata": {
    "collapsed": false,
    "ExecuteTime": {
     "end_time": "2023-12-03T12:26:38.941412560Z",
     "start_time": "2023-12-03T12:26:38.758062838Z"
    }
   }
  },
  {
   "cell_type": "markdown",
   "metadata": {},
   "source": [
    "## 2. Visualization data dan create dataset"
   ]
  },
  {
   "cell_type": "code",
   "execution_count": 5,
   "metadata": {
    "ExecuteTime": {
     "end_time": "2023-12-03T12:26:38.942286124Z",
     "start_time": "2023-12-03T12:26:38.908995148Z"
    }
   },
   "outputs": [],
   "source": [
    "# Do some data transformation\n",
    "import numpy as np"
   ]
  },
  {
   "cell_type": "code",
   "execution_count": 6,
   "metadata": {
    "ExecuteTime": {
     "end_time": "2023-12-03T12:26:38.963430498Z",
     "start_time": "2023-12-03T12:26:38.912985393Z"
    }
   },
   "outputs": [
    {
     "name": "stderr",
     "output_type": "stream",
     "text": [
      "2023-12-03 19:26:38.932122: I tensorflow/core/common_runtime/gpu_fusion_pass.cc:507] ROCm Fusion is enabled.\n",
      "2023-12-03 19:26:38.936523: I tensorflow/core/common_runtime/gpu_fusion_pass.cc:507] ROCm Fusion is enabled.\n"
     ]
    }
   ],
   "source": [
    "dataiterator =ds.as_numpy_iterator()"
   ]
  },
  {
   "cell_type": "code",
   "execution_count": 7,
   "outputs": [
    {
     "name": "stderr",
     "output_type": "stream",
     "text": [
      "2023-12-03 19:26:38.946346: I tensorflow/core/common_runtime/gpu_fusion_pass.cc:507] ROCm Fusion is enabled.\n"
     ]
    },
    {
     "data": {
      "text/plain": "array([[[  0],\n        [  0],\n        [  0],\n        [  0],\n        [  0],\n        [  0],\n        [  0],\n        [  0],\n        [  0],\n        [ 18],\n        [ 77],\n        [227],\n        [227],\n        [208],\n        [210],\n        [225],\n        [216],\n        [ 85],\n        [ 32],\n        [  0],\n        [  0],\n        [  0],\n        [  0],\n        [  0],\n        [  0],\n        [  0],\n        [  0],\n        [  0]],\n\n       [[  0],\n        [  0],\n        [  0],\n        [  0],\n        [  0],\n        [  0],\n        [  0],\n        [ 61],\n        [100],\n        [ 97],\n        [ 80],\n        [ 57],\n        [117],\n        [227],\n        [238],\n        [115],\n        [ 49],\n        [ 78],\n        [106],\n        [108],\n        [ 71],\n        [  0],\n        [  0],\n        [  0],\n        [  0],\n        [  0],\n        [  0],\n        [  0]],\n\n       [[  0],\n        [  0],\n        [  0],\n        [  0],\n        [  0],\n        [  0],\n        [ 81],\n        [105],\n        [ 80],\n        [ 69],\n        [ 72],\n        [ 64],\n        [ 44],\n        [ 21],\n        [ 13],\n        [ 44],\n        [ 69],\n        [ 75],\n        [ 75],\n        [ 80],\n        [114],\n        [ 80],\n        [  0],\n        [  0],\n        [  0],\n        [  0],\n        [  0],\n        [  0]],\n\n       [[  0],\n        [  0],\n        [  0],\n        [  0],\n        [  0],\n        [ 26],\n        [ 92],\n        [ 69],\n        [ 68],\n        [ 75],\n        [ 75],\n        [ 71],\n        [ 74],\n        [ 83],\n        [ 75],\n        [ 77],\n        [ 78],\n        [ 74],\n        [ 74],\n        [ 83],\n        [ 77],\n        [108],\n        [ 34],\n        [  0],\n        [  0],\n        [  0],\n        [  0],\n        [  0]],\n\n       [[  0],\n        [  0],\n        [  0],\n        [  0],\n        [  0],\n        [ 55],\n        [ 92],\n        [ 69],\n        [ 74],\n        [ 74],\n        [ 71],\n        [ 71],\n        [ 77],\n        [ 69],\n        [ 66],\n        [ 75],\n        [ 74],\n        [ 77],\n        [ 80],\n        [ 80],\n        [ 78],\n        [ 94],\n        [ 63],\n        [  0],\n        [  0],\n        [  0],\n        [  0],\n        [  0]],\n\n       [[  0],\n        [  0],\n        [  0],\n        [  0],\n        [  0],\n        [ 63],\n        [ 95],\n        [ 66],\n        [ 68],\n        [ 72],\n        [ 72],\n        [ 69],\n        [ 72],\n        [ 74],\n        [ 74],\n        [ 74],\n        [ 75],\n        [ 75],\n        [ 77],\n        [ 80],\n        [ 77],\n        [106],\n        [ 61],\n        [  0],\n        [  0],\n        [  0],\n        [  0],\n        [  0]],\n\n       [[  0],\n        [  0],\n        [  0],\n        [  0],\n        [  0],\n        [ 80],\n        [108],\n        [ 71],\n        [ 69],\n        [ 72],\n        [ 71],\n        [ 69],\n        [ 72],\n        [ 75],\n        [ 75],\n        [ 72],\n        [ 72],\n        [ 75],\n        [ 78],\n        [ 72],\n        [ 85],\n        [128],\n        [ 64],\n        [  0],\n        [  0],\n        [  0],\n        [  0],\n        [  0]],\n\n       [[  0],\n        [  0],\n        [  0],\n        [  0],\n        [  0],\n        [ 88],\n        [120],\n        [ 75],\n        [ 74],\n        [ 77],\n        [ 75],\n        [ 72],\n        [ 77],\n        [ 74],\n        [ 74],\n        [ 77],\n        [ 78],\n        [ 83],\n        [ 83],\n        [ 66],\n        [111],\n        [123],\n        [ 78],\n        [  0],\n        [  0],\n        [  0],\n        [  0],\n        [  0]],\n\n       [[  0],\n        [  0],\n        [  0],\n        [  0],\n        [  0],\n        [ 85],\n        [134],\n        [ 74],\n        [ 85],\n        [ 69],\n        [ 75],\n        [ 75],\n        [ 74],\n        [ 75],\n        [ 74],\n        [ 75],\n        [ 75],\n        [ 81],\n        [ 75],\n        [ 61],\n        [151],\n        [115],\n        [ 91],\n        [ 12],\n        [  0],\n        [  0],\n        [  0],\n        [  0]],\n\n       [[  0],\n        [  0],\n        [  0],\n        [  0],\n        [ 10],\n        [ 85],\n        [153],\n        [ 83],\n        [ 80],\n        [ 68],\n        [ 77],\n        [ 75],\n        [ 74],\n        [ 75],\n        [ 74],\n        [ 75],\n        [ 77],\n        [ 80],\n        [ 68],\n        [ 61],\n        [162],\n        [122],\n        [ 78],\n        [  6],\n        [  0],\n        [  0],\n        [  0],\n        [  0]],\n\n       [[  0],\n        [  0],\n        [  0],\n        [  0],\n        [ 30],\n        [ 75],\n        [154],\n        [ 85],\n        [ 80],\n        [ 71],\n        [ 80],\n        [ 72],\n        [ 77],\n        [ 75],\n        [ 75],\n        [ 77],\n        [ 78],\n        [ 77],\n        [ 75],\n        [ 49],\n        [191],\n        [132],\n        [ 72],\n        [ 15],\n        [  0],\n        [  0],\n        [  0],\n        [  0]],\n\n       [[  0],\n        [  0],\n        [  0],\n        [  0],\n        [ 58],\n        [ 66],\n        [174],\n        [115],\n        [ 66],\n        [ 77],\n        [ 80],\n        [ 72],\n        [ 78],\n        [ 75],\n        [ 77],\n        [ 78],\n        [ 78],\n        [ 77],\n        [ 66],\n        [ 49],\n        [222],\n        [131],\n        [ 77],\n        [ 37],\n        [  0],\n        [  0],\n        [  0],\n        [  0]],\n\n       [[  0],\n        [  0],\n        [  0],\n        [  0],\n        [ 69],\n        [ 55],\n        [179],\n        [139],\n        [ 55],\n        [ 92],\n        [ 74],\n        [ 74],\n        [ 78],\n        [ 74],\n        [ 78],\n        [ 77],\n        [ 75],\n        [ 80],\n        [ 64],\n        [ 55],\n        [242],\n        [111],\n        [ 95],\n        [ 44],\n        [  0],\n        [  0],\n        [  0],\n        [  0]],\n\n       [[  0],\n        [  0],\n        [  0],\n        [  0],\n        [ 74],\n        [ 57],\n        [159],\n        [180],\n        [ 55],\n        [ 92],\n        [ 64],\n        [ 72],\n        [ 74],\n        [ 74],\n        [ 77],\n        [ 75],\n        [ 77],\n        [ 78],\n        [ 55],\n        [ 66],\n        [255],\n        [ 97],\n        [108],\n        [ 49],\n        [  0],\n        [  0],\n        [  0],\n        [  0]],\n\n       [[  0],\n        [  0],\n        [  0],\n        [  0],\n        [ 74],\n        [ 66],\n        [145],\n        [153],\n        [ 72],\n        [ 83],\n        [ 58],\n        [ 78],\n        [ 77],\n        [ 75],\n        [ 75],\n        [ 75],\n        [ 72],\n        [ 80],\n        [ 30],\n        [132],\n        [255],\n        [ 37],\n        [122],\n        [ 60],\n        [  0],\n        [  0],\n        [  0],\n        [  0]],\n\n       [[  0],\n        [  0],\n        [  0],\n        [  0],\n        [ 80],\n        [ 69],\n        [142],\n        [180],\n        [142],\n        [ 57],\n        [ 64],\n        [ 78],\n        [ 74],\n        [ 75],\n        [ 75],\n        [ 75],\n        [ 72],\n        [ 85],\n        [ 21],\n        [185],\n        [227],\n        [ 37],\n        [143],\n        [ 63],\n        [  0],\n        [  0],\n        [  0],\n        [  0]],\n\n       [[  0],\n        [  0],\n        [  0],\n        [  0],\n        [ 83],\n        [ 71],\n        [136],\n        [194],\n        [126],\n        [ 46],\n        [ 69],\n        [ 75],\n        [ 72],\n        [ 75],\n        [ 75],\n        [ 75],\n        [ 74],\n        [ 78],\n        [ 38],\n        [139],\n        [185],\n        [ 60],\n        [151],\n        [ 58],\n        [  0],\n        [  0],\n        [  0],\n        [  0]],\n\n       [[  0],\n        [  0],\n        [  0],\n        [  4],\n        [ 81],\n        [ 74],\n        [145],\n        [177],\n        [ 78],\n        [ 49],\n        [ 74],\n        [ 77],\n        [ 75],\n        [ 75],\n        [ 75],\n        [ 75],\n        [ 74],\n        [ 72],\n        [ 63],\n        [ 80],\n        [156],\n        [117],\n        [153],\n        [ 55],\n        [  0],\n        [  0],\n        [  0],\n        [  0]],\n\n       [[  0],\n        [  0],\n        [  0],\n        [ 10],\n        [ 80],\n        [ 72],\n        [157],\n        [163],\n        [ 61],\n        [ 55],\n        [ 75],\n        [ 77],\n        [ 75],\n        [ 77],\n        [ 75],\n        [ 75],\n        [ 75],\n        [ 77],\n        [ 71],\n        [ 60],\n        [ 98],\n        [156],\n        [132],\n        [ 58],\n        [  0],\n        [  0],\n        [  0],\n        [  0]],\n\n       [[  0],\n        [  0],\n        [  0],\n        [ 13],\n        [ 77],\n        [ 74],\n        [157],\n        [143],\n        [ 43],\n        [ 61],\n        [ 72],\n        [ 75],\n        [ 77],\n        [ 75],\n        [ 74],\n        [ 77],\n        [ 77],\n        [ 75],\n        [ 71],\n        [ 58],\n        [ 80],\n        [157],\n        [120],\n        [ 66],\n        [  0],\n        [  0],\n        [  0],\n        [  0]],\n\n       [[  0],\n        [  0],\n        [  0],\n        [ 18],\n        [ 81],\n        [ 74],\n        [156],\n        [114],\n        [ 35],\n        [ 72],\n        [ 71],\n        [ 75],\n        [ 78],\n        [ 72],\n        [ 66],\n        [ 80],\n        [ 78],\n        [ 77],\n        [ 75],\n        [ 64],\n        [ 63],\n        [165],\n        [119],\n        [ 68],\n        [  0],\n        [  0],\n        [  0],\n        [  0]],\n\n       [[  0],\n        [  0],\n        [  0],\n        [ 23],\n        [ 85],\n        [ 81],\n        [177],\n        [ 57],\n        [ 52],\n        [ 77],\n        [ 71],\n        [ 78],\n        [ 80],\n        [ 72],\n        [ 75],\n        [ 74],\n        [ 77],\n        [ 77],\n        [ 75],\n        [ 64],\n        [ 37],\n        [173],\n        [ 95],\n        [ 72],\n        [  0],\n        [  0],\n        [  0],\n        [  0]],\n\n       [[  0],\n        [  0],\n        [  0],\n        [ 26],\n        [ 81],\n        [ 86],\n        [160],\n        [ 20],\n        [ 75],\n        [ 77],\n        [ 77],\n        [ 80],\n        [ 78],\n        [ 80],\n        [ 89],\n        [ 78],\n        [ 81],\n        [ 83],\n        [ 80],\n        [ 74],\n        [ 20],\n        [177],\n        [ 77],\n        [ 74],\n        [  0],\n        [  0],\n        [  0],\n        [  0]],\n\n       [[  0],\n        [  0],\n        [  0],\n        [ 49],\n        [ 77],\n        [ 91],\n        [200],\n        [  0],\n        [ 83],\n        [ 95],\n        [ 86],\n        [ 88],\n        [ 88],\n        [ 89],\n        [ 88],\n        [ 89],\n        [ 88],\n        [ 83],\n        [ 89],\n        [ 86],\n        [  0],\n        [191],\n        [ 78],\n        [ 80],\n        [ 24],\n        [  0],\n        [  0],\n        [  0]],\n\n       [[  0],\n        [  0],\n        [  0],\n        [ 54],\n        [ 71],\n        [108],\n        [165],\n        [  0],\n        [ 24],\n        [ 57],\n        [ 52],\n        [ 57],\n        [ 60],\n        [ 60],\n        [ 60],\n        [ 63],\n        [ 63],\n        [ 77],\n        [ 89],\n        [ 52],\n        [  0],\n        [211],\n        [ 97],\n        [ 77],\n        [ 61],\n        [  0],\n        [  0],\n        [  0]],\n\n       [[  0],\n        [  0],\n        [  0],\n        [ 68],\n        [ 91],\n        [117],\n        [137],\n        [  0],\n        [  0],\n        [  0],\n        [  0],\n        [  0],\n        [  0],\n        [  0],\n        [  0],\n        [  0],\n        [  0],\n        [  0],\n        [  0],\n        [  0],\n        [ 18],\n        [216],\n        [ 94],\n        [ 97],\n        [ 57],\n        [  0],\n        [  0],\n        [  0]],\n\n       [[  0],\n        [  0],\n        [  0],\n        [ 54],\n        [115],\n        [105],\n        [185],\n        [  0],\n        [  0],\n        [  1],\n        [  0],\n        [  0],\n        [  0],\n        [  0],\n        [  0],\n        [  0],\n        [  0],\n        [  0],\n        [  0],\n        [  0],\n        [  0],\n        [153],\n        [ 78],\n        [106],\n        [ 37],\n        [  0],\n        [  0],\n        [  0]],\n\n       [[  0],\n        [  0],\n        [  0],\n        [ 18],\n        [ 61],\n        [ 41],\n        [103],\n        [  0],\n        [  0],\n        [  0],\n        [  0],\n        [  0],\n        [  0],\n        [  0],\n        [  0],\n        [  0],\n        [  0],\n        [  0],\n        [  0],\n        [  0],\n        [  0],\n        [106],\n        [ 47],\n        [ 69],\n        [ 23],\n        [  0],\n        [  0],\n        [  0]]], dtype=uint8)"
     },
     "execution_count": 7,
     "metadata": {},
     "output_type": "execute_result"
    }
   ],
   "source": [
    "# Getting data out of the pipeline\n",
    "dataiterator.next()['image']"
   ],
   "metadata": {
    "collapsed": false,
    "ExecuteTime": {
     "end_time": "2023-12-03T12:26:39.045233466Z",
     "start_time": "2023-12-03T12:26:38.943191404Z"
    }
   }
  },
  {
   "cell_type": "code",
   "execution_count": 8,
   "outputs": [
    {
     "data": {
      "text/plain": "<Figure size 2000x2000 with 4 Axes>",
      "image/png": "[encoded data removed]"
     },
     "metadata": {},
     "output_type": "display_data"
    }
   ],
   "source": [
    "# Setup the subplot formatting \n",
    "fig, ax = plt.subplots(ncols=4, figsize=(20,20))\n",
    "# Loop four times and get images\n",
    "for idx in range(4):\n",
    "    # Get the image and label\n",
    "    img = dataiterator.next()\n",
    "    ax[idx].imshow(img['image'])\n",
    "    ax[idx].title.set_text(img['label'])\n",
    "    "
   ],
   "metadata": {
    "collapsed": false,
    "ExecuteTime": {
     "end_time": "2023-12-03T12:26:39.704734638Z",
     "start_time": "2023-12-03T12:26:38.987901986Z"
    }
   }
  },
  {
   "cell_type": "code",
   "execution_count": 9,
   "outputs": [],
   "source": [
    "# Scale and return images only \n",
    "def scale_image(data):\n",
    "    image = data['image']\n",
    "    return image/255"
   ],
   "metadata": {
    "collapsed": false,
    "ExecuteTime": {
     "end_time": "2023-12-03T12:26:39.799850173Z",
     "start_time": "2023-12-03T12:26:39.705602779Z"
    }
   }
  },
  {
   "cell_type": "code",
   "execution_count": 10,
   "outputs": [],
   "source": [
    "# Reload the dataset \n",
    "ds = tfds.load('fashion_mnist', split='train')\n",
    "# Running the dataset through the scale_images preprocessing step\n",
    "ds = ds.map(scale_image)\n",
    "# Cache the dataset for that batch \n",
    "ds = ds.cache()\n",
    "# Shuffle it up \n",
    "ds = ds.shuffle(60000)\n",
    "# Batch into 128 images per sample\n",
    "ds = ds.batch(128)\n",
    "# Reduces the likelihood of bottlenecking \n",
    "ds = ds.prefetch(64)"
   ],
   "metadata": {
    "collapsed": false,
    "ExecuteTime": {
     "end_time": "2023-12-03T12:26:39.800855650Z",
     "start_time": "2023-12-03T12:26:39.746362961Z"
    }
   }
  },
  {
   "cell_type": "code",
   "execution_count": 11,
   "outputs": [
    {
     "name": "stderr",
     "output_type": "stream",
     "text": [
      "2023-12-03 19:26:39.810371: I tensorflow/core/common_runtime/gpu_fusion_pass.cc:507] ROCm Fusion is enabled.\n",
      "2023-12-03 19:26:39.816769: I tensorflow/core/common_runtime/gpu_fusion_pass.cc:507] ROCm Fusion is enabled.\n",
      "2023-12-03 19:26:39.820130: I tensorflow/core/common_runtime/gpu_fusion_pass.cc:507] ROCm Fusion is enabled.\n",
      "2023-12-03 19:26:39.826738: I tensorflow/core/common_runtime/gpu_fusion_pass.cc:507] ROCm Fusion is enabled.\n"
     ]
    },
    {
     "data": {
      "text/plain": "(128, 28, 28, 1)"
     },
     "execution_count": 11,
     "metadata": {},
     "output_type": "execute_result"
    }
   ],
   "source": [
    "ds.as_numpy_iterator().next().shape"
   ],
   "metadata": {
    "collapsed": false,
    "ExecuteTime": {
     "end_time": "2023-12-03T12:26:41.490533499Z",
     "start_time": "2023-12-03T12:26:39.790437896Z"
    }
   }
  },
  {
   "cell_type": "markdown",
   "metadata": {},
   "source": [
    "## 3. Build Neural Network"
   ]
  },
  {
   "cell_type": "markdown",
   "metadata": {},
   "source": [
    "### 3.1 Import Modeling Component"
   ]
  },
  {
   "cell_type": "code",
   "execution_count": 12,
   "metadata": {
    "ExecuteTime": {
     "end_time": "2023-12-03T12:26:41.491269454Z",
     "start_time": "2023-12-03T12:26:41.483558956Z"
    }
   },
   "outputs": [],
   "source": [
    "from keras.models import Sequential\n",
    "from keras.layers import Conv2D, Dense, Flatten, Reshape, LeakyReLU, Dropout, UpSampling2D"
   ]
  },
  {
   "cell_type": "markdown",
   "metadata": {},
   "source": [
    "### 3.2 Build Generator"
   ]
  },
  {
   "cell_type": "code",
   "execution_count": 13,
   "metadata": {
    "ExecuteTime": {
     "end_time": "2023-12-03T12:26:41.533959710Z",
     "start_time": "2023-12-03T12:26:41.490949769Z"
    }
   },
   "outputs": [],
   "source": [
    "def BuildGenerator():\n",
    "    model = Sequential()\n",
    "    \n",
    "    # Takes in random values and reshapes it to 7x7x128\n",
    "    # Beginning of a generated image\n",
    "    model.add(Dense(7*7*128, input_dim=128))\n",
    "    model.add(LeakyReLU(alpha=0.2))\n",
    "    model.add(Reshape((7,7,128)))\n",
    "    \n",
    "    # Upsampling block 1\n",
    "    model.add(UpSampling2D())\n",
    "    model.add(Conv2D(128, kernel_size=5, padding='same'))\n",
    "    model.add(LeakyReLU(alpha=0.2))\n",
    "    \n",
    "    # Upsampling block 2\n",
    "    model.add(UpSampling2D())\n",
    "    model.add(Conv2D(128, kernel_size=5, padding='same'))\n",
    "    model.add(LeakyReLU(alpha=0.2))\n",
    "    \n",
    "    # Convolutional Block 1\n",
    "    model.add(Conv2D(128, kernel_size=4, padding='same'))\n",
    "    model.add(LeakyReLU(alpha=0.2))\n",
    "    \n",
    "    # Convolutional Block 2\n",
    "    model.add(Conv2D(128, kernel_size=4, padding='same'))\n",
    "    model.add(LeakyReLU(alpha=0.2))\n",
    "    \n",
    "    # Conv layer to one channel\n",
    "    model.add(Conv2D(1, kernel_size=4, padding='same', activation='sigmoid'))\n",
    "    \n",
    "    return model"
   ]
  },
  {
   "cell_type": "code",
   "execution_count": 14,
   "metadata": {
    "ExecuteTime": {
     "end_time": "2023-12-03T12:26:41.701555710Z",
     "start_time": "2023-12-03T12:26:41.505344880Z"
    }
   },
   "outputs": [
    {
     "name": "stdout",
     "output_type": "stream",
     "text": [
      "Model: \"sequential\"\n",
      "_________________________________________________________________\n",
      " Layer (type)                Output Shape              Param #   \n",
      "=================================================================\n",
      " dense (Dense)               (None, 6272)              809088    \n",
      "                                                                 \n",
      " leaky_re_lu (LeakyReLU)     (None, 6272)              0         \n",
      "                                                                 \n",
      " reshape (Reshape)           (None, 7, 7, 128)         0         \n",
      "                                                                 \n",
      " up_sampling2d (UpSampling2D  (None, 14, 14, 128)      0         \n",
      " )                                                               \n",
      "                                                                 \n",
      " conv2d (Conv2D)             (None, 14, 14, 128)       409728    \n",
      "                                                                 \n",
      " leaky_re_lu_1 (LeakyReLU)   (None, 14, 14, 128)       0         \n",
      "                                                                 \n",
      " up_sampling2d_1 (UpSampling  (None, 28, 28, 128)      0         \n",
      " 2D)                                                             \n",
      "                                                                 \n",
      " conv2d_1 (Conv2D)           (None, 28, 28, 128)       409728    \n",
      "                                                                 \n",
      " leaky_re_lu_2 (LeakyReLU)   (None, 28, 28, 128)       0         \n",
      "                                                                 \n",
      " conv2d_2 (Conv2D)           (None, 28, 28, 128)       262272    \n",
      "                                                                 \n",
      " leaky_re_lu_3 (LeakyReLU)   (None, 28, 28, 128)       0         \n",
      "                                                                 \n",
      " conv2d_3 (Conv2D)           (None, 28, 28, 128)       262272    \n",
      "                                                                 \n",
      " leaky_re_lu_4 (LeakyReLU)   (None, 28, 28, 128)       0         \n",
      "                                                                 \n",
      " conv2d_4 (Conv2D)           (None, 28, 28, 1)         2049      \n",
      "                                                                 \n",
      "=================================================================\n",
      "Total params: 2,155,137\n",
      "Trainable params: 2,155,137\n",
      "Non-trainable params: 0\n",
      "_________________________________________________________________\n"
     ]
    }
   ],
   "source": [
    "generator = BuildGenerator()\n",
    "generator.summary()"
   ]
  },
  {
   "cell_type": "code",
   "execution_count": 15,
   "metadata": {
    "ExecuteTime": {
     "end_time": "2023-12-03T12:26:42.739238073Z",
     "start_time": "2023-12-03T12:26:41.664060438Z"
    }
   },
   "outputs": [
    {
     "name": "stderr",
     "output_type": "stream",
     "text": [
      "2023-12-03 19:26:41.687327: I tensorflow/core/common_runtime/gpu_fusion_pass.cc:507] ROCm Fusion is enabled.\n",
      "2023-12-03 19:26:41.692090: I tensorflow/core/common_runtime/gpu_fusion_pass.cc:507] ROCm Fusion is enabled.\n",
      "2023-12-03 19:26:41.696612: I tensorflow/core/common_runtime/gpu_fusion_pass.cc:507] ROCm Fusion is enabled.\n",
      "2023-12-03 19:26:41.783302: I tensorflow/core/common_runtime/gpu_fusion_pass.cc:507] ROCm Fusion is enabled.\n"
     ]
    },
    {
     "data": {
      "text/plain": "<Figure size 2000x2000 with 4 Axes>",
      "image/png": "[encoded data removed]"
     },
     "metadata": {},
     "output_type": "display_data"
    }
   ],
   "source": [
    "img = generator.predict(np.random.randn(4,128,1))\n",
    "fig, ax = plt.subplots(ncols=4, figsize=(20,20))\n",
    "# Loop four times and get images \n",
    "for idx, img in enumerate(img): \n",
    "    # Plot the image using a specific subplot \n",
    "    ax[idx].imshow(np.squeeze(img))\n",
    "    # Appending the image label as the plot title \n",
    "    ax[idx].title.set_text(idx)"
   ]
  },
  {
   "cell_type": "markdown",
   "metadata": {},
   "source": [
    "### 3.3 Build Discriminator"
   ]
  },
  {
   "cell_type": "code",
   "execution_count": 16,
   "metadata": {
    "ExecuteTime": {
     "end_time": "2023-12-03T12:26:42.863484974Z",
     "start_time": "2023-12-03T12:26:42.742642190Z"
    }
   },
   "outputs": [],
   "source": [
    "def BuildDiscriminator():\n",
    "    model = Sequential()\n",
    "    \n",
    "    # First Conv Block\n",
    "    model.add(Conv2D(32, 5, input_shape=(28,28,1)))\n",
    "    model.add(LeakyReLU(alpha=0.2))\n",
    "    model.add(Dropout(0.4))\n",
    "    \n",
    "    # Second Conv Block\n",
    "    model.add(Conv2D(64,5))\n",
    "    model.add(LeakyReLU(alpha=0.2))\n",
    "    model.add(Dropout(0.4))\n",
    "    \n",
    "    # Third Conv Block\n",
    "    model.add(Conv2D(128,5))\n",
    "    model.add(LeakyReLU(alpha=0.2))\n",
    "    model.add(Dropout(0.4))\n",
    "    \n",
    "    # Forth Conv Block\n",
    "    model.add(Conv2D(256,5))\n",
    "    model.add(LeakyReLU(alpha=0.2))\n",
    "    model.add(Dropout(0.4))\n",
    "    \n",
    "    # Flatten then pass to dense layer\n",
    "    model.add(Flatten())\n",
    "    model.add(Dropout(0.4))\n",
    "    model.add(Dense(1, activation='sigmoid'))\n",
    "    \n",
    "    return model"
   ]
  },
  {
   "cell_type": "code",
   "execution_count": 17,
   "metadata": {
    "ExecuteTime": {
     "end_time": "2023-12-03T12:26:42.947622109Z",
     "start_time": "2023-12-03T12:26:42.786293471Z"
    }
   },
   "outputs": [
    {
     "name": "stdout",
     "output_type": "stream",
     "text": [
      "Model: \"sequential_1\"\n",
      "_________________________________________________________________\n",
      " Layer (type)                Output Shape              Param #   \n",
      "=================================================================\n",
      " conv2d_5 (Conv2D)           (None, 24, 24, 32)        832       \n",
      "                                                                 \n",
      " leaky_re_lu_5 (LeakyReLU)   (None, 24, 24, 32)        0         \n",
      "                                                                 \n",
      " dropout (Dropout)           (None, 24, 24, 32)        0         \n",
      "                                                                 \n",
      " conv2d_6 (Conv2D)           (None, 20, 20, 64)        51264     \n",
      "                                                                 \n",
      " leaky_re_lu_6 (LeakyReLU)   (None, 20, 20, 64)        0         \n",
      "                                                                 \n",
      " dropout_1 (Dropout)         (None, 20, 20, 64)        0         \n",
      "                                                                 \n",
      " conv2d_7 (Conv2D)           (None, 16, 16, 128)       204928    \n",
      "                                                                 \n",
      " leaky_re_lu_7 (LeakyReLU)   (None, 16, 16, 128)       0         \n",
      "                                                                 \n",
      " dropout_2 (Dropout)         (None, 16, 16, 128)       0         \n",
      "                                                                 \n",
      " conv2d_8 (Conv2D)           (None, 12, 12, 256)       819456    \n",
      "                                                                 \n",
      " leaky_re_lu_8 (LeakyReLU)   (None, 12, 12, 256)       0         \n",
      "                                                                 \n",
      " dropout_3 (Dropout)         (None, 12, 12, 256)       0         \n",
      "                                                                 \n",
      " flatten (Flatten)           (None, 36864)             0         \n",
      "                                                                 \n",
      " dropout_4 (Dropout)         (None, 36864)             0         \n",
      "                                                                 \n",
      " dense_1 (Dense)             (None, 1)                 36865     \n",
      "                                                                 \n",
      "=================================================================\n",
      "Total params: 1,113,345\n",
      "Trainable params: 1,113,345\n",
      "Non-trainable params: 0\n",
      "_________________________________________________________________\n"
     ]
    }
   ],
   "source": [
    "discriminator = BuildDiscriminator()\n",
    "discriminator.summary()"
   ]
  },
  {
   "cell_type": "code",
   "execution_count": 18,
   "metadata": {
    "ExecuteTime": {
     "end_time": "2023-12-03T12:26:42.949374354Z",
     "start_time": "2023-12-03T12:26:42.878581686Z"
    }
   },
   "outputs": [
    {
     "name": "stderr",
     "output_type": "stream",
     "text": [
      "2023-12-03 19:26:42.853084: I tensorflow/core/common_runtime/gpu_fusion_pass.cc:507] ROCm Fusion is enabled.\n",
      "2023-12-03 19:26:42.856895: I tensorflow/core/common_runtime/gpu_fusion_pass.cc:507] ROCm Fusion is enabled.\n",
      "2023-12-03 19:26:42.859753: I tensorflow/core/common_runtime/gpu_fusion_pass.cc:507] ROCm Fusion is enabled.\n"
     ]
    },
    {
     "data": {
      "text/plain": "(4, 28, 28, 1)"
     },
     "execution_count": 18,
     "metadata": {},
     "output_type": "execute_result"
    }
   ],
   "source": [
    "img = generator.predict(np.random.randn(4,128,1))\n",
    "img.shape"
   ]
  },
  {
   "cell_type": "code",
   "execution_count": 19,
   "metadata": {
    "ExecuteTime": {
     "end_time": "2023-12-03T12:26:43.049404011Z",
     "start_time": "2023-12-03T12:26:42.878999307Z"
    }
   },
   "outputs": [
    {
     "name": "stderr",
     "output_type": "stream",
     "text": [
      "2023-12-03 19:26:42.901196: I tensorflow/core/common_runtime/gpu_fusion_pass.cc:507] ROCm Fusion is enabled.\n",
      "2023-12-03 19:26:42.905614: I tensorflow/core/common_runtime/gpu_fusion_pass.cc:507] ROCm Fusion is enabled.\n",
      "2023-12-03 19:26:42.908761: I tensorflow/core/common_runtime/gpu_fusion_pass.cc:507] ROCm Fusion is enabled.\n",
      "2023-12-03 19:26:42.955001: I tensorflow/core/common_runtime/gpu_fusion_pass.cc:507] ROCm Fusion is enabled.\n"
     ]
    },
    {
     "data": {
      "text/plain": "array([[0.5080939 ],\n       [0.50829405],\n       [0.50825876],\n       [0.508731  ]], dtype=float32)"
     },
     "execution_count": 19,
     "metadata": {},
     "output_type": "execute_result"
    }
   ],
   "source": [
    "discriminator.predict(img)"
   ]
  },
  {
   "cell_type": "markdown",
   "source": [
    "### 4. Construct Training Loop"
   ],
   "metadata": {
    "collapsed": false
   }
  },
  {
   "cell_type": "markdown",
   "source": [
    "\n",
    "#### 4.1 Setup Losses and Optimizers"
   ],
   "metadata": {
    "collapsed": false
   }
  },
  {
   "cell_type": "code",
   "execution_count": 20,
   "outputs": [],
   "source": [
    "from tensorflow.keras.optimizers import Adam\n",
    "from keras.losses import BinaryCrossentropy"
   ],
   "metadata": {
    "collapsed": false,
    "ExecuteTime": {
     "end_time": "2023-12-03T12:26:43.049942013Z",
     "start_time": "2023-12-03T12:26:42.999950861Z"
    }
   }
  },
  {
   "cell_type": "code",
   "execution_count": 21,
   "metadata": {
    "ExecuteTime": {
     "end_time": "2023-12-03T12:26:43.050383507Z",
     "start_time": "2023-12-03T12:26:43.005502815Z"
    }
   },
   "outputs": [],
   "source": [
    "g_opt = Adam(learning_rate=0.0001)\n",
    "d_opt = Adam(learning_rate=0.00001)\n",
    "g_loss = BinaryCrossentropy()\n",
    "d_loss = BinaryCrossentropy()"
   ]
  },
  {
   "cell_type": "markdown",
   "source": [
    "#### 4.2 Build Subclassed Model"
   ],
   "metadata": {
    "collapsed": false
   }
  },
  {
   "cell_type": "code",
   "execution_count": 22,
   "outputs": [],
   "source": [
    "from tensorflow.keras.models import Model"
   ],
   "metadata": {
    "collapsed": false,
    "ExecuteTime": {
     "end_time": "2023-12-03T12:26:43.050686154Z",
     "start_time": "2023-12-03T12:26:43.016920930Z"
    }
   }
  },
  {
   "cell_type": "code",
   "execution_count": 23,
   "outputs": [],
   "source": [
    "class FashionGAN(Model):\n",
    "    def __init__(self, generator, discriminator, *args, **kwargs):\n",
    "        # Pass through args and kwargs to base class \n",
    "        super(FashionGAN, self).__init__(*args, **kwargs)\n",
    "        \n",
    "        # Create attributes for gen and disc\n",
    "        self.generator = generator\n",
    "        self.discriminator = discriminator\n",
    "        \n",
    "    def compile(self, g_opt, d_opt, g_loss, d_loss, *args, **kwargs):\n",
    "        # Compile with base class\n",
    "        super(FashionGAN, self).compile(*args, **kwargs)\n",
    "        \n",
    "        # Create attributes for losses and optimizers\n",
    "        self.g_opt = g_opt\n",
    "        self.d_opt = d_opt\n",
    "        self.g_loss = g_loss\n",
    "        self.d_loss = d_loss\n",
    "        \n",
    "    def train_step(self, batch):\n",
    "        real_images = batch\n",
    "        fake_images = self.generator(tf.random.normal((128,128,1)), training=False)\n",
    "        \n",
    "        # Train the discriminator\n",
    "        with tf.GradientTape() as d_tape:\n",
    "            # Pass the real and fake images to the discriminator model\n",
    "            yhat_real = self.discriminator(real_images, training=True)\n",
    "            yhat_fake = self.discriminator(fake_images, training=True)\n",
    "            yhat_realfake = tf.concat([yhat_real, yhat_fake], axis=0)\n",
    "            \n",
    "            # Create labels for real and fakes images\n",
    "            y_realfake = tf.concat([tf.zeros_like(yhat_real), tf.ones_like(yhat_fake)], axis=0)\n",
    "            \n",
    "            # add some noise to the True output\n",
    "            noise_real = 0.15*tf.random.uniform(tf.shape(yhat_real))\n",
    "            noise_fake = -0.15*tf.random.uniform(tf.shape(yhat_fake))\n",
    "            y_realfake += tf.concat([noise_real, noise_fake], axis=0)\n",
    "            \n",
    "            # Calculate loss - BINARYCROSSENTROPY\n",
    "            total_d_loss= self.d_loss(y_realfake, yhat_realfake)\n",
    "        \n",
    "        # Apply backpropagation - nn learn \n",
    "        dgrad = d_tape.gradient(total_d_loss, self.discriminator.trainable_variables)\n",
    "        self.d_opt.apply_gradients(zip(dgrad, self.discriminator.trainable_variables))\n",
    "        \n",
    "        # Train the generator\n",
    "        with tf.GradientTape() as g_tape:\n",
    "            # Generate some fake images\n",
    "            gen_images = self.generator(tf.random.normal((128,128,1)), training=True)\n",
    "            \n",
    "            # Create the predicted labels for the fake images\n",
    "            predicted_labels = self.discriminator(gen_images, training=False)\n",
    "            \n",
    "            # Calculate loss - trick to training to fake out the discriminator\n",
    "            total_g_loss = self.g_loss(tf.zeros_like(predicted_labels), predicted_labels)\n",
    "        \n",
    "        # Apply backpropagation\n",
    "        ggrad = g_tape.gradient(total_g_loss, self.generator.trainable_variables)\n",
    "        self.g_opt.apply_gradients(zip(ggrad, self.generator.trainable_variables))\n",
    "        \n",
    "        return {'d_loss': total_d_loss, 'g_loss': total_g_loss}"
   ],
   "metadata": {
    "collapsed": false,
    "ExecuteTime": {
     "end_time": "2023-12-03T12:26:43.149070450Z",
     "start_time": "2023-12-03T12:26:43.026253925Z"
    }
   }
  },
  {
   "cell_type": "code",
   "execution_count": 24,
   "outputs": [],
   "source": [
    "# Create instance of subclassed model\n",
    "fashgan = FashionGAN(generator, discriminator)"
   ],
   "metadata": {
    "collapsed": false,
    "ExecuteTime": {
     "end_time": "2023-12-03T12:26:43.159467998Z",
     "start_time": "2023-12-03T12:26:43.144756631Z"
    }
   }
  },
  {
   "cell_type": "code",
   "execution_count": 25,
   "outputs": [],
   "source": [
    "# Compile the model\n",
    "fashgan.compile(g_opt, d_opt, g_loss, d_loss)"
   ],
   "metadata": {
    "collapsed": false,
    "ExecuteTime": {
     "end_time": "2023-12-03T12:26:43.193484030Z",
     "start_time": "2023-12-03T12:26:43.159323388Z"
    }
   }
  },
  {
   "cell_type": "markdown",
   "source": [
    "### 4.3 Build Callback"
   ],
   "metadata": {
    "collapsed": false
   }
  },
  {
   "cell_type": "code",
   "execution_count": 26,
   "outputs": [],
   "source": [
    "import os\n",
    "from tensorflow.keras.preprocessing.image import array_to_img\n",
    "from tensorflow.keras.callbacks import Callback"
   ],
   "metadata": {
    "collapsed": false,
    "ExecuteTime": {
     "end_time": "2023-12-03T12:26:43.227492950Z",
     "start_time": "2023-12-03T12:26:43.179023867Z"
    }
   }
  },
  {
   "cell_type": "code",
   "execution_count": 27,
   "outputs": [],
   "source": [
    "class ModelMonitor(Callback):\n",
    "    def __init__(self, num_img=3, latent_dim=128):\n",
    "        self.num_img = num_img\n",
    "        self.latent_dim = latent_dim\n",
    "        \n",
    "    def on_epoch_end(self, epoch, logs=None):\n",
    "        random_latent_vectors = tf.random.uniform((self.num_img, self.latent_dim,1))\n",
    "        generated_images = self.model.generator(random_latent_vectors)\n",
    "        generated_images *= 255\n",
    "        generated_images.numpy()\n",
    "        for i in range(self.num_img):\n",
    "            img = array_to_img(generated_images[i])\n",
    "            img.save(os.path.join('/home/gabe/Documents/TF_Learn_DL/generated_img', f'generated_img_{epoch}_{i}.png'))"
   ],
   "metadata": {
    "collapsed": false,
    "ExecuteTime": {
     "end_time": "2023-12-03T12:26:43.227913552Z",
     "start_time": "2023-12-03T12:26:43.226321676Z"
    }
   }
  },
  {
   "cell_type": "markdown",
   "source": [
    "### 4.4 Train"
   ],
   "metadata": {
    "collapsed": false
   }
  },
  {
   "cell_type": "code",
   "execution_count": 28,
   "outputs": [
    {
     "name": "stdout",
     "output_type": "stream",
     "text": [
      "Epoch 1/20\n"
     ]
    },
    {
     "name": "stderr",
     "output_type": "stream",
     "text": [
      "2023-12-03 19:26:44.569328: I tensorflow/core/common_runtime/gpu_fusion_pass.cc:507] ROCm Fusion is enabled.\n"
     ]
    },
    {
     "name": "stdout",
     "output_type": "stream",
     "text": [
      "  6/469 [..............................] - ETA: 7:01 - d_loss: 0.6938 - g_loss: 0.7030WARNING:tensorflow:Callback method `on_train_batch_end` is slow compared to the batch time (batch time: 0.2309s vs `on_train_batch_end` time: 0.5664s). Check your callbacks.\n"
     ]
    },
    {
     "name": "stderr",
     "output_type": "stream",
     "text": [
      "WARNING:tensorflow:Callback method `on_train_batch_end` is slow compared to the batch time (batch time: 0.2309s vs `on_train_batch_end` time: 0.5664s). Check your callbacks.\n"
     ]
    },
    {
     "name": "stdout",
     "output_type": "stream",
     "text": [
      "165/469 [=========>....................] - ETA: 4:37 - d_loss: 0.7131 - g_loss: 0.7289"
     ]
    },
    {
     "ename": "KeyboardInterrupt",
     "evalue": "",
     "output_type": "error",
     "traceback": [
      "\u001B[0;31m---------------------------------------------------------------------------\u001B[0m",
      "\u001B[0;31mKeyboardInterrupt\u001B[0m                         Traceback (most recent call last)",
      "Cell \u001B[0;32mIn[28], line 2\u001B[0m\n\u001B[1;32m      1\u001B[0m \u001B[38;5;66;03m# Recommend 2000 epochs\u001B[39;00m\n\u001B[0;32m----> 2\u001B[0m hist \u001B[38;5;241m=\u001B[39m \u001B[43mfashgan\u001B[49m\u001B[38;5;241;43m.\u001B[39;49m\u001B[43mfit\u001B[49m\u001B[43m(\u001B[49m\u001B[43mds\u001B[49m\u001B[43m,\u001B[49m\u001B[43m \u001B[49m\u001B[43mepochs\u001B[49m\u001B[38;5;241;43m=\u001B[39;49m\u001B[38;5;241;43m20\u001B[39;49m\u001B[43m,\u001B[49m\u001B[43m \u001B[49m\u001B[43mcallbacks\u001B[49m\u001B[38;5;241;43m=\u001B[39;49m\u001B[43m[\u001B[49m\u001B[43mModelMonitor\u001B[49m\u001B[43m(\u001B[49m\u001B[43m)\u001B[49m\u001B[43m]\u001B[49m\u001B[43m)\u001B[49m\n",
      "File \u001B[0;32m~/.local/lib/python3.8/site-packages/keras/utils/traceback_utils.py:64\u001B[0m, in \u001B[0;36mfilter_traceback.<locals>.error_handler\u001B[0;34m(*args, **kwargs)\u001B[0m\n\u001B[1;32m     62\u001B[0m filtered_tb \u001B[38;5;241m=\u001B[39m \u001B[38;5;28;01mNone\u001B[39;00m\n\u001B[1;32m     63\u001B[0m \u001B[38;5;28;01mtry\u001B[39;00m:\n\u001B[0;32m---> 64\u001B[0m   \u001B[38;5;28;01mreturn\u001B[39;00m \u001B[43mfn\u001B[49m\u001B[43m(\u001B[49m\u001B[38;5;241;43m*\u001B[39;49m\u001B[43margs\u001B[49m\u001B[43m,\u001B[49m\u001B[43m \u001B[49m\u001B[38;5;241;43m*\u001B[39;49m\u001B[38;5;241;43m*\u001B[39;49m\u001B[43mkwargs\u001B[49m\u001B[43m)\u001B[49m\n\u001B[1;32m     65\u001B[0m \u001B[38;5;28;01mexcept\u001B[39;00m \u001B[38;5;167;01mException\u001B[39;00m \u001B[38;5;28;01mas\u001B[39;00m e:  \u001B[38;5;66;03m# pylint: disable=broad-except\u001B[39;00m\n\u001B[1;32m     66\u001B[0m   filtered_tb \u001B[38;5;241m=\u001B[39m _process_traceback_frames(e\u001B[38;5;241m.\u001B[39m__traceback__)\n",
      "File \u001B[0;32m~/.local/lib/python3.8/site-packages/keras/engine/training.py:1384\u001B[0m, in \u001B[0;36mModel.fit\u001B[0;34m(self, x, y, batch_size, epochs, verbose, callbacks, validation_split, validation_data, shuffle, class_weight, sample_weight, initial_epoch, steps_per_epoch, validation_steps, validation_batch_size, validation_freq, max_queue_size, workers, use_multiprocessing)\u001B[0m\n\u001B[1;32m   1377\u001B[0m \u001B[38;5;28;01mwith\u001B[39;00m tf\u001B[38;5;241m.\u001B[39mprofiler\u001B[38;5;241m.\u001B[39mexperimental\u001B[38;5;241m.\u001B[39mTrace(\n\u001B[1;32m   1378\u001B[0m     \u001B[38;5;124m'\u001B[39m\u001B[38;5;124mtrain\u001B[39m\u001B[38;5;124m'\u001B[39m,\n\u001B[1;32m   1379\u001B[0m     epoch_num\u001B[38;5;241m=\u001B[39mepoch,\n\u001B[1;32m   1380\u001B[0m     step_num\u001B[38;5;241m=\u001B[39mstep,\n\u001B[1;32m   1381\u001B[0m     batch_size\u001B[38;5;241m=\u001B[39mbatch_size,\n\u001B[1;32m   1382\u001B[0m     _r\u001B[38;5;241m=\u001B[39m\u001B[38;5;241m1\u001B[39m):\n\u001B[1;32m   1383\u001B[0m   callbacks\u001B[38;5;241m.\u001B[39mon_train_batch_begin(step)\n\u001B[0;32m-> 1384\u001B[0m   tmp_logs \u001B[38;5;241m=\u001B[39m \u001B[38;5;28;43mself\u001B[39;49m\u001B[38;5;241;43m.\u001B[39;49m\u001B[43mtrain_function\u001B[49m\u001B[43m(\u001B[49m\u001B[43miterator\u001B[49m\u001B[43m)\u001B[49m\n\u001B[1;32m   1385\u001B[0m   \u001B[38;5;28;01mif\u001B[39;00m data_handler\u001B[38;5;241m.\u001B[39mshould_sync:\n\u001B[1;32m   1386\u001B[0m     context\u001B[38;5;241m.\u001B[39masync_wait()\n",
      "File \u001B[0;32m~/.local/lib/python3.8/site-packages/tensorflow/python/util/traceback_utils.py:150\u001B[0m, in \u001B[0;36mfilter_traceback.<locals>.error_handler\u001B[0;34m(*args, **kwargs)\u001B[0m\n\u001B[1;32m    148\u001B[0m filtered_tb \u001B[38;5;241m=\u001B[39m \u001B[38;5;28;01mNone\u001B[39;00m\n\u001B[1;32m    149\u001B[0m \u001B[38;5;28;01mtry\u001B[39;00m:\n\u001B[0;32m--> 150\u001B[0m   \u001B[38;5;28;01mreturn\u001B[39;00m \u001B[43mfn\u001B[49m\u001B[43m(\u001B[49m\u001B[38;5;241;43m*\u001B[39;49m\u001B[43margs\u001B[49m\u001B[43m,\u001B[49m\u001B[43m \u001B[49m\u001B[38;5;241;43m*\u001B[39;49m\u001B[38;5;241;43m*\u001B[39;49m\u001B[43mkwargs\u001B[49m\u001B[43m)\u001B[49m\n\u001B[1;32m    151\u001B[0m \u001B[38;5;28;01mexcept\u001B[39;00m \u001B[38;5;167;01mException\u001B[39;00m \u001B[38;5;28;01mas\u001B[39;00m e:\n\u001B[1;32m    152\u001B[0m   filtered_tb \u001B[38;5;241m=\u001B[39m _process_traceback_frames(e\u001B[38;5;241m.\u001B[39m__traceback__)\n",
      "File \u001B[0;32m~/.local/lib/python3.8/site-packages/tensorflow/python/eager/def_function.py:915\u001B[0m, in \u001B[0;36mFunction.__call__\u001B[0;34m(self, *args, **kwds)\u001B[0m\n\u001B[1;32m    912\u001B[0m compiler \u001B[38;5;241m=\u001B[39m \u001B[38;5;124m\"\u001B[39m\u001B[38;5;124mxla\u001B[39m\u001B[38;5;124m\"\u001B[39m \u001B[38;5;28;01mif\u001B[39;00m \u001B[38;5;28mself\u001B[39m\u001B[38;5;241m.\u001B[39m_jit_compile \u001B[38;5;28;01melse\u001B[39;00m \u001B[38;5;124m\"\u001B[39m\u001B[38;5;124mnonXla\u001B[39m\u001B[38;5;124m\"\u001B[39m\n\u001B[1;32m    914\u001B[0m \u001B[38;5;28;01mwith\u001B[39;00m OptionalXlaContext(\u001B[38;5;28mself\u001B[39m\u001B[38;5;241m.\u001B[39m_jit_compile):\n\u001B[0;32m--> 915\u001B[0m   result \u001B[38;5;241m=\u001B[39m \u001B[38;5;28;43mself\u001B[39;49m\u001B[38;5;241;43m.\u001B[39;49m\u001B[43m_call\u001B[49m\u001B[43m(\u001B[49m\u001B[38;5;241;43m*\u001B[39;49m\u001B[43margs\u001B[49m\u001B[43m,\u001B[49m\u001B[43m \u001B[49m\u001B[38;5;241;43m*\u001B[39;49m\u001B[38;5;241;43m*\u001B[39;49m\u001B[43mkwds\u001B[49m\u001B[43m)\u001B[49m\n\u001B[1;32m    917\u001B[0m new_tracing_count \u001B[38;5;241m=\u001B[39m \u001B[38;5;28mself\u001B[39m\u001B[38;5;241m.\u001B[39mexperimental_get_tracing_count()\n\u001B[1;32m    918\u001B[0m without_tracing \u001B[38;5;241m=\u001B[39m (tracing_count \u001B[38;5;241m==\u001B[39m new_tracing_count)\n",
      "File \u001B[0;32m~/.local/lib/python3.8/site-packages/tensorflow/python/eager/def_function.py:947\u001B[0m, in \u001B[0;36mFunction._call\u001B[0;34m(self, *args, **kwds)\u001B[0m\n\u001B[1;32m    944\u001B[0m   \u001B[38;5;28mself\u001B[39m\u001B[38;5;241m.\u001B[39m_lock\u001B[38;5;241m.\u001B[39mrelease()\n\u001B[1;32m    945\u001B[0m   \u001B[38;5;66;03m# In this case we have created variables on the first call, so we run the\u001B[39;00m\n\u001B[1;32m    946\u001B[0m   \u001B[38;5;66;03m# defunned version which is guaranteed to never create variables.\u001B[39;00m\n\u001B[0;32m--> 947\u001B[0m   \u001B[38;5;28;01mreturn\u001B[39;00m \u001B[38;5;28;43mself\u001B[39;49m\u001B[38;5;241;43m.\u001B[39;49m\u001B[43m_stateless_fn\u001B[49m\u001B[43m(\u001B[49m\u001B[38;5;241;43m*\u001B[39;49m\u001B[43margs\u001B[49m\u001B[43m,\u001B[49m\u001B[43m \u001B[49m\u001B[38;5;241;43m*\u001B[39;49m\u001B[38;5;241;43m*\u001B[39;49m\u001B[43mkwds\u001B[49m\u001B[43m)\u001B[49m  \u001B[38;5;66;03m# pylint: disable=not-callable\u001B[39;00m\n\u001B[1;32m    948\u001B[0m \u001B[38;5;28;01melif\u001B[39;00m \u001B[38;5;28mself\u001B[39m\u001B[38;5;241m.\u001B[39m_stateful_fn \u001B[38;5;129;01mis\u001B[39;00m \u001B[38;5;129;01mnot\u001B[39;00m \u001B[38;5;28;01mNone\u001B[39;00m:\n\u001B[1;32m    949\u001B[0m   \u001B[38;5;66;03m# Release the lock early so that multiple threads can perform the call\u001B[39;00m\n\u001B[1;32m    950\u001B[0m   \u001B[38;5;66;03m# in parallel.\u001B[39;00m\n\u001B[1;32m    951\u001B[0m   \u001B[38;5;28mself\u001B[39m\u001B[38;5;241m.\u001B[39m_lock\u001B[38;5;241m.\u001B[39mrelease()\n",
      "File \u001B[0;32m~/.local/lib/python3.8/site-packages/tensorflow/python/eager/function.py:2956\u001B[0m, in \u001B[0;36mFunction.__call__\u001B[0;34m(self, *args, **kwargs)\u001B[0m\n\u001B[1;32m   2953\u001B[0m \u001B[38;5;28;01mwith\u001B[39;00m \u001B[38;5;28mself\u001B[39m\u001B[38;5;241m.\u001B[39m_lock:\n\u001B[1;32m   2954\u001B[0m   (graph_function,\n\u001B[1;32m   2955\u001B[0m    filtered_flat_args) \u001B[38;5;241m=\u001B[39m \u001B[38;5;28mself\u001B[39m\u001B[38;5;241m.\u001B[39m_maybe_define_function(args, kwargs)\n\u001B[0;32m-> 2956\u001B[0m \u001B[38;5;28;01mreturn\u001B[39;00m \u001B[43mgraph_function\u001B[49m\u001B[38;5;241;43m.\u001B[39;49m\u001B[43m_call_flat\u001B[49m\u001B[43m(\u001B[49m\n\u001B[1;32m   2957\u001B[0m \u001B[43m    \u001B[49m\u001B[43mfiltered_flat_args\u001B[49m\u001B[43m,\u001B[49m\u001B[43m \u001B[49m\u001B[43mcaptured_inputs\u001B[49m\u001B[38;5;241;43m=\u001B[39;49m\u001B[43mgraph_function\u001B[49m\u001B[38;5;241;43m.\u001B[39;49m\u001B[43mcaptured_inputs\u001B[49m\u001B[43m)\u001B[49m\n",
      "File \u001B[0;32m~/.local/lib/python3.8/site-packages/tensorflow/python/eager/function.py:1853\u001B[0m, in \u001B[0;36mConcreteFunction._call_flat\u001B[0;34m(self, args, captured_inputs, cancellation_manager)\u001B[0m\n\u001B[1;32m   1849\u001B[0m possible_gradient_type \u001B[38;5;241m=\u001B[39m gradients_util\u001B[38;5;241m.\u001B[39mPossibleTapeGradientTypes(args)\n\u001B[1;32m   1850\u001B[0m \u001B[38;5;28;01mif\u001B[39;00m (possible_gradient_type \u001B[38;5;241m==\u001B[39m gradients_util\u001B[38;5;241m.\u001B[39mPOSSIBLE_GRADIENT_TYPES_NONE\n\u001B[1;32m   1851\u001B[0m     \u001B[38;5;129;01mand\u001B[39;00m executing_eagerly):\n\u001B[1;32m   1852\u001B[0m   \u001B[38;5;66;03m# No tape is watching; skip to running the function.\u001B[39;00m\n\u001B[0;32m-> 1853\u001B[0m   \u001B[38;5;28;01mreturn\u001B[39;00m \u001B[38;5;28mself\u001B[39m\u001B[38;5;241m.\u001B[39m_build_call_outputs(\u001B[38;5;28;43mself\u001B[39;49m\u001B[38;5;241;43m.\u001B[39;49m\u001B[43m_inference_function\u001B[49m\u001B[38;5;241;43m.\u001B[39;49m\u001B[43mcall\u001B[49m\u001B[43m(\u001B[49m\n\u001B[1;32m   1854\u001B[0m \u001B[43m      \u001B[49m\u001B[43mctx\u001B[49m\u001B[43m,\u001B[49m\u001B[43m \u001B[49m\u001B[43margs\u001B[49m\u001B[43m,\u001B[49m\u001B[43m \u001B[49m\u001B[43mcancellation_manager\u001B[49m\u001B[38;5;241;43m=\u001B[39;49m\u001B[43mcancellation_manager\u001B[49m\u001B[43m)\u001B[49m)\n\u001B[1;32m   1855\u001B[0m forward_backward \u001B[38;5;241m=\u001B[39m \u001B[38;5;28mself\u001B[39m\u001B[38;5;241m.\u001B[39m_select_forward_and_backward_functions(\n\u001B[1;32m   1856\u001B[0m     args,\n\u001B[1;32m   1857\u001B[0m     possible_gradient_type,\n\u001B[1;32m   1858\u001B[0m     executing_eagerly)\n\u001B[1;32m   1859\u001B[0m forward_function, args_with_tangents \u001B[38;5;241m=\u001B[39m forward_backward\u001B[38;5;241m.\u001B[39mforward()\n",
      "File \u001B[0;32m~/.local/lib/python3.8/site-packages/tensorflow/python/eager/function.py:499\u001B[0m, in \u001B[0;36m_EagerDefinedFunction.call\u001B[0;34m(self, ctx, args, cancellation_manager)\u001B[0m\n\u001B[1;32m    497\u001B[0m \u001B[38;5;28;01mwith\u001B[39;00m _InterpolateFunctionError(\u001B[38;5;28mself\u001B[39m):\n\u001B[1;32m    498\u001B[0m   \u001B[38;5;28;01mif\u001B[39;00m cancellation_manager \u001B[38;5;129;01mis\u001B[39;00m \u001B[38;5;28;01mNone\u001B[39;00m:\n\u001B[0;32m--> 499\u001B[0m     outputs \u001B[38;5;241m=\u001B[39m \u001B[43mexecute\u001B[49m\u001B[38;5;241;43m.\u001B[39;49m\u001B[43mexecute\u001B[49m\u001B[43m(\u001B[49m\n\u001B[1;32m    500\u001B[0m \u001B[43m        \u001B[49m\u001B[38;5;28;43mstr\u001B[39;49m\u001B[43m(\u001B[49m\u001B[38;5;28;43mself\u001B[39;49m\u001B[38;5;241;43m.\u001B[39;49m\u001B[43msignature\u001B[49m\u001B[38;5;241;43m.\u001B[39;49m\u001B[43mname\u001B[49m\u001B[43m)\u001B[49m\u001B[43m,\u001B[49m\n\u001B[1;32m    501\u001B[0m \u001B[43m        \u001B[49m\u001B[43mnum_outputs\u001B[49m\u001B[38;5;241;43m=\u001B[39;49m\u001B[38;5;28;43mself\u001B[39;49m\u001B[38;5;241;43m.\u001B[39;49m\u001B[43m_num_outputs\u001B[49m\u001B[43m,\u001B[49m\n\u001B[1;32m    502\u001B[0m \u001B[43m        \u001B[49m\u001B[43minputs\u001B[49m\u001B[38;5;241;43m=\u001B[39;49m\u001B[43margs\u001B[49m\u001B[43m,\u001B[49m\n\u001B[1;32m    503\u001B[0m \u001B[43m        \u001B[49m\u001B[43mattrs\u001B[49m\u001B[38;5;241;43m=\u001B[39;49m\u001B[43mattrs\u001B[49m\u001B[43m,\u001B[49m\n\u001B[1;32m    504\u001B[0m \u001B[43m        \u001B[49m\u001B[43mctx\u001B[49m\u001B[38;5;241;43m=\u001B[39;49m\u001B[43mctx\u001B[49m\u001B[43m)\u001B[49m\n\u001B[1;32m    505\u001B[0m   \u001B[38;5;28;01melse\u001B[39;00m:\n\u001B[1;32m    506\u001B[0m     outputs \u001B[38;5;241m=\u001B[39m execute\u001B[38;5;241m.\u001B[39mexecute_with_cancellation(\n\u001B[1;32m    507\u001B[0m         \u001B[38;5;28mstr\u001B[39m(\u001B[38;5;28mself\u001B[39m\u001B[38;5;241m.\u001B[39msignature\u001B[38;5;241m.\u001B[39mname),\n\u001B[1;32m    508\u001B[0m         num_outputs\u001B[38;5;241m=\u001B[39m\u001B[38;5;28mself\u001B[39m\u001B[38;5;241m.\u001B[39m_num_outputs,\n\u001B[0;32m   (...)\u001B[0m\n\u001B[1;32m    511\u001B[0m         ctx\u001B[38;5;241m=\u001B[39mctx,\n\u001B[1;32m    512\u001B[0m         cancellation_manager\u001B[38;5;241m=\u001B[39mcancellation_manager)\n",
      "File \u001B[0;32m~/.local/lib/python3.8/site-packages/tensorflow/python/eager/execute.py:54\u001B[0m, in \u001B[0;36mquick_execute\u001B[0;34m(op_name, num_outputs, inputs, attrs, ctx, name)\u001B[0m\n\u001B[1;32m     52\u001B[0m \u001B[38;5;28;01mtry\u001B[39;00m:\n\u001B[1;32m     53\u001B[0m   ctx\u001B[38;5;241m.\u001B[39mensure_initialized()\n\u001B[0;32m---> 54\u001B[0m   tensors \u001B[38;5;241m=\u001B[39m \u001B[43mpywrap_tfe\u001B[49m\u001B[38;5;241;43m.\u001B[39;49m\u001B[43mTFE_Py_Execute\u001B[49m\u001B[43m(\u001B[49m\u001B[43mctx\u001B[49m\u001B[38;5;241;43m.\u001B[39;49m\u001B[43m_handle\u001B[49m\u001B[43m,\u001B[49m\u001B[43m \u001B[49m\u001B[43mdevice_name\u001B[49m\u001B[43m,\u001B[49m\u001B[43m \u001B[49m\u001B[43mop_name\u001B[49m\u001B[43m,\u001B[49m\n\u001B[1;32m     55\u001B[0m \u001B[43m                                      \u001B[49m\u001B[43minputs\u001B[49m\u001B[43m,\u001B[49m\u001B[43m \u001B[49m\u001B[43mattrs\u001B[49m\u001B[43m,\u001B[49m\u001B[43m \u001B[49m\u001B[43mnum_outputs\u001B[49m\u001B[43m)\u001B[49m\n\u001B[1;32m     56\u001B[0m \u001B[38;5;28;01mexcept\u001B[39;00m core\u001B[38;5;241m.\u001B[39m_NotOkStatusException \u001B[38;5;28;01mas\u001B[39;00m e:\n\u001B[1;32m     57\u001B[0m   \u001B[38;5;28;01mif\u001B[39;00m name \u001B[38;5;129;01mis\u001B[39;00m \u001B[38;5;129;01mnot\u001B[39;00m \u001B[38;5;28;01mNone\u001B[39;00m:\n",
      "\u001B[0;31mKeyboardInterrupt\u001B[0m: "
     ]
    }
   ],
   "source": [
    "# Recommend 2000 epochs\n",
    "hist = fashgan.fit(ds, epochs=20, callbacks=[ModelMonitor()])"
   ],
   "metadata": {
    "collapsed": false,
    "ExecuteTime": {
     "end_time": "2023-12-03T12:29:16.539264023Z",
     "start_time": "2023-12-03T12:26:43.226688172Z"
    }
   }
  },
  {
   "cell_type": "markdown",
   "source": [
    "## 4.5 Review Performance"
   ],
   "metadata": {
    "collapsed": false
   }
  },
  {
   "cell_type": "code",
   "execution_count": null,
   "outputs": [],
   "source": [
    "plt.suptitle('Loss')\n",
    "plt.plot(hist.history['d_loss'], label='d_loss')\n",
    "plt.plot(hist.history['g_loss'], label='g_loss')\n",
    "plt.legend()\n",
    "plt.show()"
   ],
   "metadata": {
    "collapsed": false
   }
  },
  {
   "cell_type": "markdown",
   "source": [
    "## 5. Test Out the Generator"
   ],
   "metadata": {
    "collapsed": false
   }
  },
  {
   "cell_type": "markdown",
   "source": [
    "### 5.1 Generate Images"
   ],
   "metadata": {
    "collapsed": false
   }
  },
  {
   "cell_type": "code",
   "execution_count": 1,
   "outputs": [
    {
     "ename": "NameError",
     "evalue": "name 'generator' is not defined",
     "output_type": "error",
     "traceback": [
      "\u001B[0;31m---------------------------------------------------------------------------\u001B[0m",
      "\u001B[0;31mNameError\u001B[0m                                 Traceback (most recent call last)",
      "Cell \u001B[0;32mIn[1], line 1\u001B[0m\n\u001B[0;32m----> 1\u001B[0m \u001B[43mgenerator\u001B[49m\u001B[38;5;241m.\u001B[39mload_weights(\u001B[38;5;124m'\u001B[39m\u001B[38;5;124m/home/gabe/Documents/TF_Learn_DL/model/generatormodel.h5\u001B[39m\u001B[38;5;124m'\u001B[39m)\n",
      "\u001B[0;31mNameError\u001B[0m: name 'generator' is not defined"
     ]
    }
   ],
   "source": [
    "generator.load_weights('/home/gabe/Documents/TF_Learn_DL/model/generatormodel.h5')"
   ],
   "metadata": {
    "collapsed": false,
    "ExecuteTime": {
     "end_time": "2023-12-04T10:42:58.098835922Z",
     "start_time": "2023-12-04T10:42:57.965883003Z"
    }
   }
  },
  {
   "cell_type": "code",
   "execution_count": null,
   "outputs": [],
   "source": [],
   "metadata": {
    "collapsed": false
   }
  }
 ],
 "metadata": {
  "kernelspec": {
   "display_name": "venv",
   "language": "python",
   "name": "python3"
  },
  "language_info": {
   "codemirror_mode": {
    "name": "ipython",
    "version": 3
   },
   "file_extension": ".py",
   "mimetype": "text/x-python",
   "name": "python",
   "nbconvert_exporter": "python",
   "pygments_lexer": "ipython3",
   "version": "3.8.10"
  }
 },
 "nbformat": 4,
 "nbformat_minor": 2
}
